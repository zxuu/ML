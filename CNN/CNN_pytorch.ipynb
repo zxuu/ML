{
 "cells": [
  {
   "cell_type": "code",
   "execution_count": 1,
   "metadata": {
    "collapsed": true
   },
   "outputs": [],
   "source": [
    "import torch\n",
    "import torch.nn as nn\n",
    "import torch.optim as optim\n",
    "import torch.nn.functional as F\n",
    "from torchvision import datasets,transforms\n",
    "import matplotlib.pyplot as plt\n",
    "import numpy as np\n",
    "%matplotlib inline"
   ]
  },
  {
   "cell_type": "markdown",
   "source": [
    "# 首先读取数据\n",
    "- 分别构建训练集和测试集（验证集）\n",
    "- DataLoader来迭代读取数据\n"
   ],
   "metadata": {
    "collapsed": false,
    "pycharm": {
     "name": "#%% md\n"
    }
   }
  },
  {
   "cell_type": "code",
   "execution_count": 2,
   "outputs": [],
   "source": [
    "# 定义超参数\n",
    "input_size = 28 #图像的总尺寸28*28\n",
    "num_classes = 10 #标签的种类数\n",
    "num_epochs = 3 #训练的总循环周期\n",
    "batch_size = 64 #一个撮（批次）的大小，64张图片\n",
    "\n",
    "#训练集\n",
    "train_dataset = datasets.MNIST(root='../data',\n",
    "                               train=True,\n",
    "                               transform=transforms.ToTensor(),\n",
    "                               download=True)\n",
    "#测试集\n",
    "test_dataset = datasets.MNIST(root='../data',\n",
    "                              train=False,\n",
    "                              transform=transforms.ToTensor())\n",
    "#构建batch数据\n",
    "train_loader = torch.utils.data.DataLoader(dataset=train_dataset,\n",
    "                                           batch_size=batch_size,\n",
    "                                           shuffle=True)\n",
    "\n",
    "test_loader = torch.utils.data.DataLoader(dataset=test_dataset,\n",
    "                                           batch_size=batch_size,\n",
    "                                           shuffle=True)\n"
   ],
   "metadata": {
    "collapsed": false,
    "pycharm": {
     "name": "#%%\n"
    }
   }
  },
  {
   "cell_type": "markdown",
   "source": [
    "# 卷积网络模块构建\n",
    "- 一般卷积层，relu层，池化层可以写成一个套餐\n",
    "- 注意卷积最后结果韩式一个特征图，需要把图转换成向量才能做分类或者回归\n",
    "\n",
    "\n"
   ],
   "metadata": {
    "collapsed": false,
    "pycharm": {
     "name": "#%% md\n"
    }
   }
  },
  {
   "cell_type": "code",
   "execution_count": 3,
   "outputs": [],
   "source": [
    "class CNN(nn.Module):\n",
    "    def __init__(self):\n",
    "        super(CNN, self).__init__()\n",
    "        self.conv1 = nn.Sequential(    #输入大小（1,28,28）\n",
    "            nn.Conv2d(    #第一个套餐\n",
    "                in_channels=1,    #灰度图\n",
    "                out_channels=16,    #要得到几个特征图\n",
    "                kernel_size=(5,5),    #卷积核大小\n",
    "                stride=(1,1),    #步长\n",
    "                padding=2,    #如果希望卷积后大小和原来一样，需要设置padding=（kernel_size-1)/2 if stride=1\n",
    "            ),    #输出的特征图为（16,28,28）\n",
    "            nn.ReLU(),\n",
    "            nn.MaxPool2d(kernel_size=2),\n",
    "        )\n",
    "        self.conv2 = nn.Sequential(    #下一个套餐的输入（16，14,14）\n",
    "            nn.Conv2d(16,32,(5,5),(1,1),2),    #输出（32，14,14）\n",
    "            nn.ReLU(),    #relu层\n",
    "            nn.MaxPool2d(2),    #输出（32,7,7）\n",
    "        )\n",
    "        self.out = nn.Linear(32*7*7,10)    #全连接层得到的结果\n",
    "\n",
    "    def forward(self,x):\n",
    "        x = self.conv1(x)\n",
    "        x=self.conv2(x)\n",
    "        x = x.view(x.size(0),-1) #flatten操作(拉成一维向量)，结果为：（batch_size,32*7*7)\n",
    "        output = self.out(x)\n",
    "        return output\n"
   ],
   "metadata": {
    "collapsed": false,
    "pycharm": {
     "name": "#%%\n"
    }
   }
  },
  {
   "cell_type": "markdown",
   "source": [
    "# 准确度作为评估函数"
   ],
   "metadata": {
    "collapsed": false,
    "pycharm": {
     "name": "#%% md\n"
    }
   }
  },
  {
   "cell_type": "code",
   "execution_count": 4,
   "outputs": [],
   "source": [
    "def accuracy(predictions,labels):\n",
    "    pred = torch.max(predictions.data,1)[1]\n",
    "    rights = pred.eq(labels.data.view_as(pred)).sum()\n",
    "    return rights, len(labels)"
   ],
   "metadata": {
    "collapsed": false,
    "pycharm": {
     "name": "#%%\n"
    }
   }
  },
  {
   "cell_type": "markdown",
   "source": [
    "# 训练网络模型"
   ],
   "metadata": {
    "collapsed": false
   }
  },
  {
   "cell_type": "code",
   "execution_count": 5,
   "outputs": [
    {
     "name": "stdout",
     "output_type": "stream",
     "text": [
      "当前epoch：0 [0/60000 (0%)]\t损失:2.300164\\训练集准确率:14.06%\t测试集正确率:9.74%\n",
      "当前epoch：0 [6400/60000 (11%)]\t损失:0.382811\\训练集准确率:77.15%\t测试集正确率:91.52%\n",
      "当前epoch：0 [12800/60000 (21%)]\t损失:0.165946\\训练集准确率:85.04%\t测试集正确率:94.74%\n",
      "当前epoch：0 [19200/60000 (32%)]\t损失:0.079941\\训练集准确率:88.46%\t测试集正确率:95.96%\n",
      "当前epoch：0 [25600/60000 (43%)]\t损失:0.173695\\训练集准确率:90.28%\t测试集正确率:96.98%\n",
      "当前epoch：0 [32000/60000 (53%)]\t损失:0.136011\\训练集准确率:91.48%\t测试集正确率:96.33%\n",
      "当前epoch：0 [38400/60000 (64%)]\t损失:0.109364\\训练集准确率:92.37%\t测试集正确率:96.38%\n",
      "当前epoch：0 [44800/60000 (75%)]\t损失:0.135017\\训练集准确率:93.07%\t测试集正确率:97.92%\n",
      "当前epoch：0 [51200/60000 (85%)]\t损失:0.165512\\训练集准确率:93.59%\t测试集正确率:98.04%\n",
      "当前epoch：0 [57600/60000 (96%)]\t损失:0.104410\\训练集准确率:94.03%\t测试集正确率:98.13%\n",
      "当前epoch：1 [0/60000 (0%)]\t损失:0.115499\\训练集准确率:95.31%\t测试集正确率:98.10%\n",
      "当前epoch：1 [6400/60000 (11%)]\t损失:0.060319\\训练集准确率:97.90%\t测试集正确率:98.19%\n",
      "当前epoch：1 [12800/60000 (21%)]\t损失:0.103624\\训练集准确率:97.87%\t测试集正确率:98.33%\n",
      "当前epoch：1 [19200/60000 (32%)]\t损失:0.080519\\训练集准确率:97.90%\t测试集正确率:98.22%\n",
      "当前epoch：1 [25600/60000 (43%)]\t损失:0.090519\\训练集准确率:97.88%\t测试集正确率:98.27%\n",
      "当前epoch：1 [32000/60000 (53%)]\t损失:0.010849\\训练集准确率:97.94%\t测试集正确率:98.38%\n",
      "当前epoch：1 [38400/60000 (64%)]\t损失:0.010796\\训练集准确率:97.96%\t测试集正确率:98.47%\n",
      "当前epoch：1 [44800/60000 (75%)]\t损失:0.011147\\训练集准确率:98.04%\t测试集正确率:98.58%\n",
      "当前epoch：1 [51200/60000 (85%)]\t损失:0.044185\\训练集准确率:98.08%\t测试集正确率:98.73%\n",
      "当前epoch：1 [57600/60000 (96%)]\t损失:0.052126\\训练集准确率:98.15%\t测试集正确率:98.64%\n",
      "当前epoch：2 [0/60000 (0%)]\t损失:0.137053\\训练集准确率:96.88%\t测试集正确率:98.80%\n",
      "当前epoch：2 [6400/60000 (11%)]\t损失:0.027014\\训练集准确率:98.75%\t测试集正确率:98.84%\n",
      "当前epoch：2 [12800/60000 (21%)]\t损失:0.014458\\训练集准确率:98.63%\t测试集正确率:98.45%\n",
      "当前epoch：2 [19200/60000 (32%)]\t损失:0.015635\\训练集准确率:98.60%\t测试集正确率:98.62%\n",
      "当前epoch：2 [25600/60000 (43%)]\t损失:0.115647\\训练集准确率:98.57%\t测试集正确率:98.74%\n",
      "当前epoch：2 [32000/60000 (53%)]\t损失:0.076447\\训练集准确率:98.63%\t测试集正确率:98.69%\n",
      "当前epoch：2 [38400/60000 (64%)]\t损失:0.011894\\训练集准确率:98.61%\t测试集正确率:98.68%\n",
      "当前epoch：2 [44800/60000 (75%)]\t损失:0.158779\\训练集准确率:98.57%\t测试集正确率:98.71%\n",
      "当前epoch：2 [51200/60000 (85%)]\t损失:0.030254\\训练集准确率:98.63%\t测试集正确率:98.85%\n",
      "当前epoch：2 [57600/60000 (96%)]\t损失:0.007131\\训练集准确率:98.64%\t测试集正确率:98.66%\n"
     ]
    }
   ],
   "source": [
    "#实例化\n",
    "net = CNN()\n",
    "#损失函数\n",
    "criterion = nn.CrossEntropyLoss() #交叉熵损失函数\n",
    "#优化器\n",
    "optimizer = optim.Adam(net.parameters(), lr=0.001) #定义优化器，普通的随机梯度下降算法\n",
    "\n",
    "#开始循环训练\n",
    "for epoch in range(num_epochs):\n",
    "    #当前的epoch的结果保存下来\n",
    "    train_rights = []\n",
    "\n",
    "    for batch_idx,(data,target) in enumerate(train_loader): #针对容器中的每一个批进行循环\n",
    "        net.train() #\n",
    "        output = net(data)\n",
    "        loss = criterion(output,target)\n",
    "        optimizer.zero_grad() #梯度清零\n",
    "        loss.backward()\n",
    "        optimizer.step() #更新权重参数\n",
    "        right = accuracy(output,target)\n",
    "        train_rights.append(right)\n",
    "\n",
    "        if batch_idx % 100 == 0:\n",
    "            net.eval()\n",
    "            val_rights = []\n",
    "            for (data,target) in test_loader:\n",
    "                output = net(data)\n",
    "                right = accuracy(output,target)\n",
    "                val_rights.append(right)\n",
    "\n",
    "            #准确率计算\n",
    "            train_r = (sum([tup[0] for tup in train_rights]),sum([tup[1] for tup in train_rights]))\n",
    "            val_r = (sum([tup[0] for tup in val_rights]), sum([tup[1] for tup in val_rights]))\n",
    "\n",
    "            print('当前epoch：{} [{}/{} ({:.0f}%)]\\t损失:{:.6f}\\训练集准确率:{:.2f}%\\t测试集正确率:{:.2f}%'.format(\n",
    "                   epoch,batch_idx*batch_size,len(train_loader.dataset),\n",
    "                   100.*batch_idx/len(train_loader),\n",
    "                   loss.data,\n",
    "                   100.*train_r[0].numpy()/train_r[1],\n",
    "                   100.*val_r[0].numpy()/val_r[1]))"
   ],
   "metadata": {
    "collapsed": false,
    "pycharm": {
     "name": "#%%\n"
    }
   }
  }
 ],
 "metadata": {
  "kernelspec": {
   "display_name": "Python 3",
   "language": "python",
   "name": "python3"
  },
  "language_info": {
   "codemirror_mode": {
    "name": "ipython",
    "version": 2
   },
   "file_extension": ".py",
   "mimetype": "text/x-python",
   "name": "python",
   "nbconvert_exporter": "python",
   "pygments_lexer": "ipython2",
   "version": "2.7.6"
  }
 },
 "nbformat": 4,
 "nbformat_minor": 0
}