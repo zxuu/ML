{
 "cells": [
  {
   "cell_type": "code",
   "execution_count": 1,
   "metadata": {
    "collapsed": true
   },
   "outputs": [
    {
     "name": "stderr",
     "output_type": "stream",
     "text": [
      "D:\\Anaconda\\lib\\site-packages\\ipykernel\\parentpoller.py:116: UserWarning: Parent poll failed.  If the frontend dies,\n",
      "                the kernel may be left running.  Please let us know\n",
      "                about your system (bitness, Python, etc.) at\n",
      "                ipython-dev@scipy.org\n",
      "  ipython-dev@scipy.org\"\"\")\n"
     ]
    }
   ],
   "source": [
    "import pandas as pd\n",
    "from mlxtend.frequent_patterns import apriori\n",
    "from mlxtend.frequent_patterns import association_rules"
   ]
  },
  {
   "cell_type": "code",
   "execution_count": 2,
   "outputs": [],
   "source": [
    "data = {\n",
    "    'ID':     [1,2,3,4,5,6],\n",
    "    'Onion':  [1,0,0,1,1,1],\n",
    "    'Potato':[1,1,0,1,1,1],\n",
    "    'Burger': [1,1,0,0,1,1],\n",
    "    'Milk':   [0,1,1,1,0,1],\n",
    "    'Beer':   [0,0,1,0,1,0]\n",
    "}\n",
    "\n",
    "df = pd.DataFrame(data)\n",
    "df = df[['ID','Onion','Potato','Burger','Milk','Beer']]\n"
   ],
   "metadata": {
    "collapsed": false,
    "pycharm": {
     "name": "#%%\n"
    }
   }
  },
  {
   "cell_type": "code",
   "execution_count": 3,
   "outputs": [
    {
     "data": {
      "text/plain": "   ID  Onion  Potato  Burger  Milk  Beer\n0   1      1       1       1     0     0\n1   2      0       1       1     1     0\n2   3      0       0       0     1     1\n3   4      1       1       0     1     0\n4   5      1       1       1     0     1\n5   6      1       1       1     1     0",
      "text/html": "<div>\n<style scoped>\n    .dataframe tbody tr th:only-of-type {\n        vertical-align: middle;\n    }\n\n    .dataframe tbody tr th {\n        vertical-align: top;\n    }\n\n    .dataframe thead th {\n        text-align: right;\n    }\n</style>\n<table border=\"1\" class=\"dataframe\">\n  <thead>\n    <tr style=\"text-align: right;\">\n      <th></th>\n      <th>ID</th>\n      <th>Onion</th>\n      <th>Potato</th>\n      <th>Burger</th>\n      <th>Milk</th>\n      <th>Beer</th>\n    </tr>\n  </thead>\n  <tbody>\n    <tr>\n      <th>0</th>\n      <td>1</td>\n      <td>1</td>\n      <td>1</td>\n      <td>1</td>\n      <td>0</td>\n      <td>0</td>\n    </tr>\n    <tr>\n      <th>1</th>\n      <td>2</td>\n      <td>0</td>\n      <td>1</td>\n      <td>1</td>\n      <td>1</td>\n      <td>0</td>\n    </tr>\n    <tr>\n      <th>2</th>\n      <td>3</td>\n      <td>0</td>\n      <td>0</td>\n      <td>0</td>\n      <td>1</td>\n      <td>1</td>\n    </tr>\n    <tr>\n      <th>3</th>\n      <td>4</td>\n      <td>1</td>\n      <td>1</td>\n      <td>0</td>\n      <td>1</td>\n      <td>0</td>\n    </tr>\n    <tr>\n      <th>4</th>\n      <td>5</td>\n      <td>1</td>\n      <td>1</td>\n      <td>1</td>\n      <td>0</td>\n      <td>1</td>\n    </tr>\n    <tr>\n      <th>5</th>\n      <td>6</td>\n      <td>1</td>\n      <td>1</td>\n      <td>1</td>\n      <td>1</td>\n      <td>0</td>\n    </tr>\n  </tbody>\n</table>\n</div>"
     },
     "execution_count": 3,
     "metadata": {},
     "output_type": "execute_result"
    }
   ],
   "source": [
    "df"
   ],
   "metadata": {
    "collapsed": false,
    "pycharm": {
     "name": "#%%\n"
    }
   }
  },
  {
   "cell_type": "markdown",
   "source": [
    "### 设置支持度（support）来选择频繁项集\n",
    "    选择最小支持度为50%\n",
    "    apriori(df, min_support=0.5, use_colname=True)"
   ],
   "metadata": {
    "collapsed": false
   }
  },
  {
   "cell_type": "code",
   "execution_count": 5,
   "outputs": [],
   "source": [
    "frequent_itemsets = apriori(df[['Onion','Potato','Burger','Milk','Beer']],min_support=0.50,use_colnames=True)"
   ],
   "metadata": {
    "collapsed": false,
    "pycharm": {
     "name": "#%%\n"
    }
   }
  },
  {
   "cell_type": "code",
   "execution_count": 6,
   "outputs": [
    {
     "data": {
      "text/plain": "    support                 itemsets\n0  0.666667                  (Onion)\n1  0.833333                 (Potato)\n2  0.666667                 (Burger)\n3  0.666667                   (Milk)\n4  0.666667          (Onion, Potato)\n5  0.500000          (Onion, Burger)\n6  0.666667         (Potato, Burger)\n7  0.500000           (Potato, Milk)\n8  0.500000  (Onion, Potato, Burger)",
      "text/html": "<div>\n<style scoped>\n    .dataframe tbody tr th:only-of-type {\n        vertical-align: middle;\n    }\n\n    .dataframe tbody tr th {\n        vertical-align: top;\n    }\n\n    .dataframe thead th {\n        text-align: right;\n    }\n</style>\n<table border=\"1\" class=\"dataframe\">\n  <thead>\n    <tr style=\"text-align: right;\">\n      <th></th>\n      <th>support</th>\n      <th>itemsets</th>\n    </tr>\n  </thead>\n  <tbody>\n    <tr>\n      <th>0</th>\n      <td>0.666667</td>\n      <td>(Onion)</td>\n    </tr>\n    <tr>\n      <th>1</th>\n      <td>0.833333</td>\n      <td>(Potato)</td>\n    </tr>\n    <tr>\n      <th>2</th>\n      <td>0.666667</td>\n      <td>(Burger)</td>\n    </tr>\n    <tr>\n      <th>3</th>\n      <td>0.666667</td>\n      <td>(Milk)</td>\n    </tr>\n    <tr>\n      <th>4</th>\n      <td>0.666667</td>\n      <td>(Onion, Potato)</td>\n    </tr>\n    <tr>\n      <th>5</th>\n      <td>0.500000</td>\n      <td>(Onion, Burger)</td>\n    </tr>\n    <tr>\n      <th>6</th>\n      <td>0.666667</td>\n      <td>(Potato, Burger)</td>\n    </tr>\n    <tr>\n      <th>7</th>\n      <td>0.500000</td>\n      <td>(Potato, Milk)</td>\n    </tr>\n    <tr>\n      <th>8</th>\n      <td>0.500000</td>\n      <td>(Onion, Potato, Burger)</td>\n    </tr>\n  </tbody>\n</table>\n</div>"
     },
     "execution_count": 6,
     "metadata": {},
     "output_type": "execute_result"
    }
   ],
   "source": [
    "frequent_itemsets"
   ],
   "metadata": {
    "collapsed": false,
    "pycharm": {
     "name": "#%%\n"
    }
   }
  },
  {
   "cell_type": "code",
   "execution_count": 7,
   "outputs": [],
   "source": [
    "rules = association_rules(frequent_itemsets, metric='lift', min_threshold=1)"
   ],
   "metadata": {
    "collapsed": false,
    "pycharm": {
     "name": "#%%\n"
    }
   }
  },
  {
   "cell_type": "code",
   "execution_count": 8,
   "outputs": [
    {
     "data": {
      "text/plain": "         antecedents       consequents  antecedent support  \\\n0            (Onion)          (Potato)            0.666667   \n1           (Potato)           (Onion)            0.833333   \n2            (Onion)          (Burger)            0.666667   \n3           (Burger)           (Onion)            0.666667   \n4           (Potato)          (Burger)            0.833333   \n5           (Burger)          (Potato)            0.666667   \n6    (Onion, Potato)          (Burger)            0.666667   \n7    (Onion, Burger)          (Potato)            0.500000   \n8   (Potato, Burger)           (Onion)            0.666667   \n9            (Onion)  (Potato, Burger)            0.666667   \n10          (Potato)   (Onion, Burger)            0.833333   \n11          (Burger)   (Onion, Potato)            0.666667   \n\n    consequent support   support  confidence   lift  leverage  conviction  \n0             0.833333  0.666667        1.00  1.200  0.111111         inf  \n1             0.666667  0.666667        0.80  1.200  0.111111    1.666667  \n2             0.666667  0.500000        0.75  1.125  0.055556    1.333333  \n3             0.666667  0.500000        0.75  1.125  0.055556    1.333333  \n4             0.666667  0.666667        0.80  1.200  0.111111    1.666667  \n5             0.833333  0.666667        1.00  1.200  0.111111         inf  \n6             0.666667  0.500000        0.75  1.125  0.055556    1.333333  \n7             0.833333  0.500000        1.00  1.200  0.083333         inf  \n8             0.666667  0.500000        0.75  1.125  0.055556    1.333333  \n9             0.666667  0.500000        0.75  1.125  0.055556    1.333333  \n10            0.500000  0.500000        0.60  1.200  0.083333    1.250000  \n11            0.666667  0.500000        0.75  1.125  0.055556    1.333333  ",
      "text/html": "<div>\n<style scoped>\n    .dataframe tbody tr th:only-of-type {\n        vertical-align: middle;\n    }\n\n    .dataframe tbody tr th {\n        vertical-align: top;\n    }\n\n    .dataframe thead th {\n        text-align: right;\n    }\n</style>\n<table border=\"1\" class=\"dataframe\">\n  <thead>\n    <tr style=\"text-align: right;\">\n      <th></th>\n      <th>antecedents</th>\n      <th>consequents</th>\n      <th>antecedent support</th>\n      <th>consequent support</th>\n      <th>support</th>\n      <th>confidence</th>\n      <th>lift</th>\n      <th>leverage</th>\n      <th>conviction</th>\n    </tr>\n  </thead>\n  <tbody>\n    <tr>\n      <th>0</th>\n      <td>(Onion)</td>\n      <td>(Potato)</td>\n      <td>0.666667</td>\n      <td>0.833333</td>\n      <td>0.666667</td>\n      <td>1.00</td>\n      <td>1.200</td>\n      <td>0.111111</td>\n      <td>inf</td>\n    </tr>\n    <tr>\n      <th>1</th>\n      <td>(Potato)</td>\n      <td>(Onion)</td>\n      <td>0.833333</td>\n      <td>0.666667</td>\n      <td>0.666667</td>\n      <td>0.80</td>\n      <td>1.200</td>\n      <td>0.111111</td>\n      <td>1.666667</td>\n    </tr>\n    <tr>\n      <th>2</th>\n      <td>(Onion)</td>\n      <td>(Burger)</td>\n      <td>0.666667</td>\n      <td>0.666667</td>\n      <td>0.500000</td>\n      <td>0.75</td>\n      <td>1.125</td>\n      <td>0.055556</td>\n      <td>1.333333</td>\n    </tr>\n    <tr>\n      <th>3</th>\n      <td>(Burger)</td>\n      <td>(Onion)</td>\n      <td>0.666667</td>\n      <td>0.666667</td>\n      <td>0.500000</td>\n      <td>0.75</td>\n      <td>1.125</td>\n      <td>0.055556</td>\n      <td>1.333333</td>\n    </tr>\n    <tr>\n      <th>4</th>\n      <td>(Potato)</td>\n      <td>(Burger)</td>\n      <td>0.833333</td>\n      <td>0.666667</td>\n      <td>0.666667</td>\n      <td>0.80</td>\n      <td>1.200</td>\n      <td>0.111111</td>\n      <td>1.666667</td>\n    </tr>\n    <tr>\n      <th>5</th>\n      <td>(Burger)</td>\n      <td>(Potato)</td>\n      <td>0.666667</td>\n      <td>0.833333</td>\n      <td>0.666667</td>\n      <td>1.00</td>\n      <td>1.200</td>\n      <td>0.111111</td>\n      <td>inf</td>\n    </tr>\n    <tr>\n      <th>6</th>\n      <td>(Onion, Potato)</td>\n      <td>(Burger)</td>\n      <td>0.666667</td>\n      <td>0.666667</td>\n      <td>0.500000</td>\n      <td>0.75</td>\n      <td>1.125</td>\n      <td>0.055556</td>\n      <td>1.333333</td>\n    </tr>\n    <tr>\n      <th>7</th>\n      <td>(Onion, Burger)</td>\n      <td>(Potato)</td>\n      <td>0.500000</td>\n      <td>0.833333</td>\n      <td>0.500000</td>\n      <td>1.00</td>\n      <td>1.200</td>\n      <td>0.083333</td>\n      <td>inf</td>\n    </tr>\n    <tr>\n      <th>8</th>\n      <td>(Potato, Burger)</td>\n      <td>(Onion)</td>\n      <td>0.666667</td>\n      <td>0.666667</td>\n      <td>0.500000</td>\n      <td>0.75</td>\n      <td>1.125</td>\n      <td>0.055556</td>\n      <td>1.333333</td>\n    </tr>\n    <tr>\n      <th>9</th>\n      <td>(Onion)</td>\n      <td>(Potato, Burger)</td>\n      <td>0.666667</td>\n      <td>0.666667</td>\n      <td>0.500000</td>\n      <td>0.75</td>\n      <td>1.125</td>\n      <td>0.055556</td>\n      <td>1.333333</td>\n    </tr>\n    <tr>\n      <th>10</th>\n      <td>(Potato)</td>\n      <td>(Onion, Burger)</td>\n      <td>0.833333</td>\n      <td>0.500000</td>\n      <td>0.500000</td>\n      <td>0.60</td>\n      <td>1.200</td>\n      <td>0.083333</td>\n      <td>1.250000</td>\n    </tr>\n    <tr>\n      <th>11</th>\n      <td>(Burger)</td>\n      <td>(Onion, Potato)</td>\n      <td>0.666667</td>\n      <td>0.666667</td>\n      <td>0.500000</td>\n      <td>0.75</td>\n      <td>1.125</td>\n      <td>0.055556</td>\n      <td>1.333333</td>\n    </tr>\n  </tbody>\n</table>\n</div>"
     },
     "execution_count": 8,
     "metadata": {},
     "output_type": "execute_result"
    }
   ],
   "source": [
    "rules\n",
    "#返回的是各个指标的数值，可以按照兴趣的指标排序观察，但具体解释还得参考实际数据的含义。"
   ],
   "metadata": {
    "collapsed": false,
    "pycharm": {
     "name": "#%%\n"
    }
   }
  },
  {
   "cell_type": "code",
   "execution_count": 13,
   "outputs": [
    {
     "data": {
      "text/plain": "       antecedents consequents  antecedent support  consequent support  \\\n0          (Onion)    (Potato)            0.666667            0.833333   \n5         (Burger)    (Potato)            0.666667            0.833333   \n7  (Onion, Burger)    (Potato)            0.500000            0.833333   \n\n    support  confidence  lift  leverage  conviction  \n0  0.666667         1.0   1.2  0.111111         inf  \n5  0.666667         1.0   1.2  0.111111         inf  \n7  0.500000         1.0   1.2  0.083333         inf  ",
      "text/html": "<div>\n<style scoped>\n    .dataframe tbody tr th:only-of-type {\n        vertical-align: middle;\n    }\n\n    .dataframe tbody tr th {\n        vertical-align: top;\n    }\n\n    .dataframe thead th {\n        text-align: right;\n    }\n</style>\n<table border=\"1\" class=\"dataframe\">\n  <thead>\n    <tr style=\"text-align: right;\">\n      <th></th>\n      <th>antecedents</th>\n      <th>consequents</th>\n      <th>antecedent support</th>\n      <th>consequent support</th>\n      <th>support</th>\n      <th>confidence</th>\n      <th>lift</th>\n      <th>leverage</th>\n      <th>conviction</th>\n    </tr>\n  </thead>\n  <tbody>\n    <tr>\n      <th>0</th>\n      <td>(Onion)</td>\n      <td>(Potato)</td>\n      <td>0.666667</td>\n      <td>0.833333</td>\n      <td>0.666667</td>\n      <td>1.0</td>\n      <td>1.2</td>\n      <td>0.111111</td>\n      <td>inf</td>\n    </tr>\n    <tr>\n      <th>5</th>\n      <td>(Burger)</td>\n      <td>(Potato)</td>\n      <td>0.666667</td>\n      <td>0.833333</td>\n      <td>0.666667</td>\n      <td>1.0</td>\n      <td>1.2</td>\n      <td>0.111111</td>\n      <td>inf</td>\n    </tr>\n    <tr>\n      <th>7</th>\n      <td>(Onion, Burger)</td>\n      <td>(Potato)</td>\n      <td>0.500000</td>\n      <td>0.833333</td>\n      <td>0.500000</td>\n      <td>1.0</td>\n      <td>1.2</td>\n      <td>0.083333</td>\n      <td>inf</td>\n    </tr>\n  </tbody>\n</table>\n</div>"
     },
     "execution_count": 13,
     "metadata": {},
     "output_type": "execute_result"
    }
   ],
   "source": [
    "rules[(rules['lift']>1.125) & (rules['confidence']>0.8)]"
   ],
   "metadata": {
    "collapsed": false,
    "pycharm": {
     "name": "#%%\n"
    }
   }
  },
  {
   "cell_type": "markdown",
   "source": [
    "### 这几条结果就比较有价值了\n",
    " （洋葱和马铃薯）（汉堡和马铃薯）可以搭配着来卖\n",
    " 如果洋葱和汉堡都在购物篮中，顾客买马铃薯的可能性就比较高\n"
   ],
   "metadata": {
    "collapsed": false
   }
  },
  {
   "cell_type": "markdown",
   "source": [
    "# 电影题材关联"
   ],
   "metadata": {
    "collapsed": false
   }
  },
  {
   "cell_type": "code",
   "execution_count": 15,
   "outputs": [
    {
     "data": {
      "text/plain": "   movieId                               title  \\\n0        1                    Toy Story (1995)   \n1        2                      Jumanji (1995)   \n2        3             Grumpier Old Men (1995)   \n3        4            Waiting to Exhale (1995)   \n4        5  Father of the Bride Part II (1995)   \n5        6                         Heat (1995)   \n6        7                      Sabrina (1995)   \n7        8                 Tom and Huck (1995)   \n8        9                 Sudden Death (1995)   \n9       10                    GoldenEye (1995)   \n\n                                        genres  \n0  Adventure|Animation|Children|Comedy|Fantasy  \n1                   Adventure|Children|Fantasy  \n2                               Comedy|Romance  \n3                         Comedy|Drama|Romance  \n4                                       Comedy  \n5                        Action|Crime|Thriller  \n6                               Comedy|Romance  \n7                           Adventure|Children  \n8                                       Action  \n9                    Action|Adventure|Thriller  ",
      "text/html": "<div>\n<style scoped>\n    .dataframe tbody tr th:only-of-type {\n        vertical-align: middle;\n    }\n\n    .dataframe tbody tr th {\n        vertical-align: top;\n    }\n\n    .dataframe thead th {\n        text-align: right;\n    }\n</style>\n<table border=\"1\" class=\"dataframe\">\n  <thead>\n    <tr style=\"text-align: right;\">\n      <th></th>\n      <th>movieId</th>\n      <th>title</th>\n      <th>genres</th>\n    </tr>\n  </thead>\n  <tbody>\n    <tr>\n      <th>0</th>\n      <td>1</td>\n      <td>Toy Story (1995)</td>\n      <td>Adventure|Animation|Children|Comedy|Fantasy</td>\n    </tr>\n    <tr>\n      <th>1</th>\n      <td>2</td>\n      <td>Jumanji (1995)</td>\n      <td>Adventure|Children|Fantasy</td>\n    </tr>\n    <tr>\n      <th>2</th>\n      <td>3</td>\n      <td>Grumpier Old Men (1995)</td>\n      <td>Comedy|Romance</td>\n    </tr>\n    <tr>\n      <th>3</th>\n      <td>4</td>\n      <td>Waiting to Exhale (1995)</td>\n      <td>Comedy|Drama|Romance</td>\n    </tr>\n    <tr>\n      <th>4</th>\n      <td>5</td>\n      <td>Father of the Bride Part II (1995)</td>\n      <td>Comedy</td>\n    </tr>\n    <tr>\n      <th>5</th>\n      <td>6</td>\n      <td>Heat (1995)</td>\n      <td>Action|Crime|Thriller</td>\n    </tr>\n    <tr>\n      <th>6</th>\n      <td>7</td>\n      <td>Sabrina (1995)</td>\n      <td>Comedy|Romance</td>\n    </tr>\n    <tr>\n      <th>7</th>\n      <td>8</td>\n      <td>Tom and Huck (1995)</td>\n      <td>Adventure|Children</td>\n    </tr>\n    <tr>\n      <th>8</th>\n      <td>9</td>\n      <td>Sudden Death (1995)</td>\n      <td>Action</td>\n    </tr>\n    <tr>\n      <th>9</th>\n      <td>10</td>\n      <td>GoldenEye (1995)</td>\n      <td>Action|Adventure|Thriller</td>\n    </tr>\n  </tbody>\n</table>\n</div>"
     },
     "execution_count": 15,
     "metadata": {},
     "output_type": "execute_result"
    }
   ],
   "source": [
    "movies = pd.read_csv('../data/movies.csv')\n",
    "movies.head(10)"
   ],
   "metadata": {
    "collapsed": false,
    "pycharm": {
     "name": "#%%\n"
    }
   }
  },
  {
   "cell_type": "markdown",
   "source": [
    "数据中心包括电影名、电影类型标签，第一步还是先转换成one-hot格式"
   ],
   "metadata": {
    "collapsed": false,
    "pycharm": {
     "name": "#%% md\n"
    }
   }
  },
  {
   "cell_type": "code",
   "execution_count": 17,
   "outputs": [
    {
     "data": {
      "text/plain": "   movieId                               title  (no genres listed)  Action  \\\n0        1                    Toy Story (1995)                   0       0   \n1        2                      Jumanji (1995)                   0       0   \n2        3             Grumpier Old Men (1995)                   0       0   \n3        4            Waiting to Exhale (1995)                   0       0   \n4        5  Father of the Bride Part II (1995)                   0       0   \n\n   Adventure  Animation  Children  Comedy  Crime  Documentary  Drama  Fantasy  \\\n0          1          1         1       1      0            0      0        1   \n1          1          0         1       0      0            0      0        1   \n2          0          0         0       1      0            0      0        0   \n3          0          0         0       1      0            0      1        0   \n4          0          0         0       1      0            0      0        0   \n\n   Film-Noir  Horror  IMAX  Musical  Mystery  Romance  Sci-Fi  Thriller  War  \\\n0          0       0     0        0        0        0       0         0    0   \n1          0       0     0        0        0        0       0         0    0   \n2          0       0     0        0        0        1       0         0    0   \n3          0       0     0        0        0        1       0         0    0   \n4          0       0     0        0        0        0       0         0    0   \n\n   Western  \n0        0  \n1        0  \n2        0  \n3        0  \n4        0  ",
      "text/html": "<div>\n<style scoped>\n    .dataframe tbody tr th:only-of-type {\n        vertical-align: middle;\n    }\n\n    .dataframe tbody tr th {\n        vertical-align: top;\n    }\n\n    .dataframe thead th {\n        text-align: right;\n    }\n</style>\n<table border=\"1\" class=\"dataframe\">\n  <thead>\n    <tr style=\"text-align: right;\">\n      <th></th>\n      <th>movieId</th>\n      <th>title</th>\n      <th>(no genres listed)</th>\n      <th>Action</th>\n      <th>Adventure</th>\n      <th>Animation</th>\n      <th>Children</th>\n      <th>Comedy</th>\n      <th>Crime</th>\n      <th>Documentary</th>\n      <th>Drama</th>\n      <th>Fantasy</th>\n      <th>Film-Noir</th>\n      <th>Horror</th>\n      <th>IMAX</th>\n      <th>Musical</th>\n      <th>Mystery</th>\n      <th>Romance</th>\n      <th>Sci-Fi</th>\n      <th>Thriller</th>\n      <th>War</th>\n      <th>Western</th>\n    </tr>\n  </thead>\n  <tbody>\n    <tr>\n      <th>0</th>\n      <td>1</td>\n      <td>Toy Story (1995)</td>\n      <td>0</td>\n      <td>0</td>\n      <td>1</td>\n      <td>1</td>\n      <td>1</td>\n      <td>1</td>\n      <td>0</td>\n      <td>0</td>\n      <td>0</td>\n      <td>1</td>\n      <td>0</td>\n      <td>0</td>\n      <td>0</td>\n      <td>0</td>\n      <td>0</td>\n      <td>0</td>\n      <td>0</td>\n      <td>0</td>\n      <td>0</td>\n      <td>0</td>\n    </tr>\n    <tr>\n      <th>1</th>\n      <td>2</td>\n      <td>Jumanji (1995)</td>\n      <td>0</td>\n      <td>0</td>\n      <td>1</td>\n      <td>0</td>\n      <td>1</td>\n      <td>0</td>\n      <td>0</td>\n      <td>0</td>\n      <td>0</td>\n      <td>1</td>\n      <td>0</td>\n      <td>0</td>\n      <td>0</td>\n      <td>0</td>\n      <td>0</td>\n      <td>0</td>\n      <td>0</td>\n      <td>0</td>\n      <td>0</td>\n      <td>0</td>\n    </tr>\n    <tr>\n      <th>2</th>\n      <td>3</td>\n      <td>Grumpier Old Men (1995)</td>\n      <td>0</td>\n      <td>0</td>\n      <td>0</td>\n      <td>0</td>\n      <td>0</td>\n      <td>1</td>\n      <td>0</td>\n      <td>0</td>\n      <td>0</td>\n      <td>0</td>\n      <td>0</td>\n      <td>0</td>\n      <td>0</td>\n      <td>0</td>\n      <td>0</td>\n      <td>1</td>\n      <td>0</td>\n      <td>0</td>\n      <td>0</td>\n      <td>0</td>\n    </tr>\n    <tr>\n      <th>3</th>\n      <td>4</td>\n      <td>Waiting to Exhale (1995)</td>\n      <td>0</td>\n      <td>0</td>\n      <td>0</td>\n      <td>0</td>\n      <td>0</td>\n      <td>1</td>\n      <td>0</td>\n      <td>0</td>\n      <td>1</td>\n      <td>0</td>\n      <td>0</td>\n      <td>0</td>\n      <td>0</td>\n      <td>0</td>\n      <td>0</td>\n      <td>1</td>\n      <td>0</td>\n      <td>0</td>\n      <td>0</td>\n      <td>0</td>\n    </tr>\n    <tr>\n      <th>4</th>\n      <td>5</td>\n      <td>Father of the Bride Part II (1995)</td>\n      <td>0</td>\n      <td>0</td>\n      <td>0</td>\n      <td>0</td>\n      <td>0</td>\n      <td>1</td>\n      <td>0</td>\n      <td>0</td>\n      <td>0</td>\n      <td>0</td>\n      <td>0</td>\n      <td>0</td>\n      <td>0</td>\n      <td>0</td>\n      <td>0</td>\n      <td>0</td>\n      <td>0</td>\n      <td>0</td>\n      <td>0</td>\n      <td>0</td>\n    </tr>\n  </tbody>\n</table>\n</div>"
     },
     "execution_count": 17,
     "metadata": {},
     "output_type": "execute_result"
    }
   ],
   "source": [
    "movies_ohe = movies.drop('genres',1).join(movies.genres.str.get_dummies())\n",
    "pd.options.display.max_columns=100\n",
    "movies_ohe.head()"
   ],
   "metadata": {
    "collapsed": false,
    "pycharm": {
     "name": "#%%\n"
    }
   }
  },
  {
   "cell_type": "code",
   "execution_count": 19,
   "outputs": [
    {
     "data": {
      "text/plain": "(9742, 22)"
     },
     "execution_count": 19,
     "metadata": {},
     "output_type": "execute_result"
    }
   ],
   "source": [
    "movies_ohe.shape"
   ],
   "metadata": {
    "collapsed": false,
    "pycharm": {
     "name": "#%%\n"
    }
   }
  },
  {
   "cell_type": "markdown",
   "source": [
    "数据集包括9742部电影，一共有20种不同类型"
   ],
   "metadata": {
    "collapsed": false,
    "pycharm": {
     "name": "#%% md\n"
    }
   }
  },
  {
   "cell_type": "code",
   "execution_count": 20,
   "outputs": [
    {
     "data": {
      "text/plain": "                                            (no genres listed)  Action  \\\nmovieId title                                                            \n1       Toy Story (1995)                                     0       0   \n2       Jumanji (1995)                                       0       0   \n3       Grumpier Old Men (1995)                              0       0   \n4       Waiting to Exhale (1995)                             0       0   \n5       Father of the Bride Part II (1995)                   0       0   \n\n                                            Adventure  Animation  Children  \\\nmovieId title                                                                \n1       Toy Story (1995)                            1          1         1   \n2       Jumanji (1995)                              1          0         1   \n3       Grumpier Old Men (1995)                     0          0         0   \n4       Waiting to Exhale (1995)                    0          0         0   \n5       Father of the Bride Part II (1995)          0          0         0   \n\n                                            Comedy  Crime  Documentary  Drama  \\\nmovieId title                                                                   \n1       Toy Story (1995)                         1      0            0      0   \n2       Jumanji (1995)                           0      0            0      0   \n3       Grumpier Old Men (1995)                  1      0            0      0   \n4       Waiting to Exhale (1995)                 1      0            0      1   \n5       Father of the Bride Part II (1995)       1      0            0      0   \n\n                                            Fantasy  Film-Noir  Horror  IMAX  \\\nmovieId title                                                                  \n1       Toy Story (1995)                          1          0       0     0   \n2       Jumanji (1995)                            1          0       0     0   \n3       Grumpier Old Men (1995)                   0          0       0     0   \n4       Waiting to Exhale (1995)                  0          0       0     0   \n5       Father of the Bride Part II (1995)        0          0       0     0   \n\n                                            Musical  Mystery  Romance  Sci-Fi  \\\nmovieId title                                                                   \n1       Toy Story (1995)                          0        0        0       0   \n2       Jumanji (1995)                            0        0        0       0   \n3       Grumpier Old Men (1995)                   0        0        1       0   \n4       Waiting to Exhale (1995)                  0        0        1       0   \n5       Father of the Bride Part II (1995)        0        0        0       0   \n\n                                            Thriller  War  Western  \nmovieId title                                                       \n1       Toy Story (1995)                           0    0        0  \n2       Jumanji (1995)                             0    0        0  \n3       Grumpier Old Men (1995)                    0    0        0  \n4       Waiting to Exhale (1995)                   0    0        0  \n5       Father of the Bride Part II (1995)         0    0        0  ",
      "text/html": "<div>\n<style scoped>\n    .dataframe tbody tr th:only-of-type {\n        vertical-align: middle;\n    }\n\n    .dataframe tbody tr th {\n        vertical-align: top;\n    }\n\n    .dataframe thead th {\n        text-align: right;\n    }\n</style>\n<table border=\"1\" class=\"dataframe\">\n  <thead>\n    <tr style=\"text-align: right;\">\n      <th></th>\n      <th></th>\n      <th>(no genres listed)</th>\n      <th>Action</th>\n      <th>Adventure</th>\n      <th>Animation</th>\n      <th>Children</th>\n      <th>Comedy</th>\n      <th>Crime</th>\n      <th>Documentary</th>\n      <th>Drama</th>\n      <th>Fantasy</th>\n      <th>Film-Noir</th>\n      <th>Horror</th>\n      <th>IMAX</th>\n      <th>Musical</th>\n      <th>Mystery</th>\n      <th>Romance</th>\n      <th>Sci-Fi</th>\n      <th>Thriller</th>\n      <th>War</th>\n      <th>Western</th>\n    </tr>\n    <tr>\n      <th>movieId</th>\n      <th>title</th>\n      <th></th>\n      <th></th>\n      <th></th>\n      <th></th>\n      <th></th>\n      <th></th>\n      <th></th>\n      <th></th>\n      <th></th>\n      <th></th>\n      <th></th>\n      <th></th>\n      <th></th>\n      <th></th>\n      <th></th>\n      <th></th>\n      <th></th>\n      <th></th>\n      <th></th>\n      <th></th>\n    </tr>\n  </thead>\n  <tbody>\n    <tr>\n      <th>1</th>\n      <th>Toy Story (1995)</th>\n      <td>0</td>\n      <td>0</td>\n      <td>1</td>\n      <td>1</td>\n      <td>1</td>\n      <td>1</td>\n      <td>0</td>\n      <td>0</td>\n      <td>0</td>\n      <td>1</td>\n      <td>0</td>\n      <td>0</td>\n      <td>0</td>\n      <td>0</td>\n      <td>0</td>\n      <td>0</td>\n      <td>0</td>\n      <td>0</td>\n      <td>0</td>\n      <td>0</td>\n    </tr>\n    <tr>\n      <th>2</th>\n      <th>Jumanji (1995)</th>\n      <td>0</td>\n      <td>0</td>\n      <td>1</td>\n      <td>0</td>\n      <td>1</td>\n      <td>0</td>\n      <td>0</td>\n      <td>0</td>\n      <td>0</td>\n      <td>1</td>\n      <td>0</td>\n      <td>0</td>\n      <td>0</td>\n      <td>0</td>\n      <td>0</td>\n      <td>0</td>\n      <td>0</td>\n      <td>0</td>\n      <td>0</td>\n      <td>0</td>\n    </tr>\n    <tr>\n      <th>3</th>\n      <th>Grumpier Old Men (1995)</th>\n      <td>0</td>\n      <td>0</td>\n      <td>0</td>\n      <td>0</td>\n      <td>0</td>\n      <td>1</td>\n      <td>0</td>\n      <td>0</td>\n      <td>0</td>\n      <td>0</td>\n      <td>0</td>\n      <td>0</td>\n      <td>0</td>\n      <td>0</td>\n      <td>0</td>\n      <td>1</td>\n      <td>0</td>\n      <td>0</td>\n      <td>0</td>\n      <td>0</td>\n    </tr>\n    <tr>\n      <th>4</th>\n      <th>Waiting to Exhale (1995)</th>\n      <td>0</td>\n      <td>0</td>\n      <td>0</td>\n      <td>0</td>\n      <td>0</td>\n      <td>1</td>\n      <td>0</td>\n      <td>0</td>\n      <td>1</td>\n      <td>0</td>\n      <td>0</td>\n      <td>0</td>\n      <td>0</td>\n      <td>0</td>\n      <td>0</td>\n      <td>1</td>\n      <td>0</td>\n      <td>0</td>\n      <td>0</td>\n      <td>0</td>\n    </tr>\n    <tr>\n      <th>5</th>\n      <th>Father of the Bride Part II (1995)</th>\n      <td>0</td>\n      <td>0</td>\n      <td>0</td>\n      <td>0</td>\n      <td>0</td>\n      <td>1</td>\n      <td>0</td>\n      <td>0</td>\n      <td>0</td>\n      <td>0</td>\n      <td>0</td>\n      <td>0</td>\n      <td>0</td>\n      <td>0</td>\n      <td>0</td>\n      <td>0</td>\n      <td>0</td>\n      <td>0</td>\n      <td>0</td>\n      <td>0</td>\n    </tr>\n  </tbody>\n</table>\n</div>"
     },
     "execution_count": 20,
     "metadata": {},
     "output_type": "execute_result"
    }
   ],
   "source": [
    "movies_ohe.set_index(['movieId','title'], inplace=True)\n",
    "movies_ohe.head()"
   ],
   "metadata": {
    "collapsed": false,
    "pycharm": {
     "name": "#%%\n"
    }
   }
  },
  {
   "cell_type": "code",
   "execution_count": 21,
   "outputs": [],
   "source": [
    "frequent_itemsets_movies = apriori(movies_ohe,use_colnames=True,min_support=0.025)\n",
    "\n",
    "\n"
   ],
   "metadata": {
    "collapsed": false,
    "pycharm": {
     "name": "#%%\n"
    }
   }
  },
  {
   "cell_type": "code",
   "execution_count": 22,
   "outputs": [
    {
     "data": {
      "text/plain": "     support                  itemsets\n0   0.187641                  (Action)\n1   0.129645               (Adventure)\n2   0.062718               (Animation)\n3   0.068158                (Children)\n4   0.385547                  (Comedy)\n5   0.123075                   (Crime)\n6   0.045165             (Documentary)\n7   0.447649                   (Drama)\n8   0.079963                 (Fantasy)\n9   0.100390                  (Horror)\n10  0.034285                 (Musical)\n11  0.058817                 (Mystery)\n12  0.163827                 (Romance)\n13  0.100595                  (Sci-Fi)\n14  0.194416                (Thriller)\n15  0.039212                     (War)\n16  0.062615       (Adventure, Action)\n17  0.044036          (Action, Comedy)\n18  0.042907           (Crime, Action)\n19  0.054301           (Action, Drama)\n20  0.046294          (Sci-Fi, Action)\n21  0.067235        (Action, Thriller)\n22  0.025354    (Animation, Adventure)\n23  0.032026     (Children, Adventure)\n24  0.040957       (Adventure, Comedy)\n25  0.031924        (Adventure, Drama)\n26  0.034285      (Adventure, Fantasy)\n27  0.031410       (Sci-Fi, Adventure)\n28  0.031000     (Children, Animation)\n29  0.027612       (Animation, Comedy)\n30  0.037159        (Children, Comedy)\n31  0.035414           (Crime, Comedy)\n32  0.103983           (Drama, Comedy)\n33  0.030076         (Comedy, Fantasy)\n34  0.090741         (Romance, Comedy)\n35  0.065387            (Crime, Drama)\n36  0.058407         (Crime, Thriller)\n37  0.029563          (Mystery, Drama)\n38  0.095874          (Romance, Drama)\n39  0.085403         (Thriller, Drama)\n40  0.030589              (War, Drama)\n41  0.047116        (Horror, Thriller)\n42  0.036338       (Mystery, Thriller)\n43  0.031000        (Sci-Fi, Thriller)\n44  0.035106  (Romance, Drama, Comedy)\n45  0.031718  (Thriller, Crime, Drama)",
      "text/html": "<div>\n<style scoped>\n    .dataframe tbody tr th:only-of-type {\n        vertical-align: middle;\n    }\n\n    .dataframe tbody tr th {\n        vertical-align: top;\n    }\n\n    .dataframe thead th {\n        text-align: right;\n    }\n</style>\n<table border=\"1\" class=\"dataframe\">\n  <thead>\n    <tr style=\"text-align: right;\">\n      <th></th>\n      <th>support</th>\n      <th>itemsets</th>\n    </tr>\n  </thead>\n  <tbody>\n    <tr>\n      <th>0</th>\n      <td>0.187641</td>\n      <td>(Action)</td>\n    </tr>\n    <tr>\n      <th>1</th>\n      <td>0.129645</td>\n      <td>(Adventure)</td>\n    </tr>\n    <tr>\n      <th>2</th>\n      <td>0.062718</td>\n      <td>(Animation)</td>\n    </tr>\n    <tr>\n      <th>3</th>\n      <td>0.068158</td>\n      <td>(Children)</td>\n    </tr>\n    <tr>\n      <th>4</th>\n      <td>0.385547</td>\n      <td>(Comedy)</td>\n    </tr>\n    <tr>\n      <th>5</th>\n      <td>0.123075</td>\n      <td>(Crime)</td>\n    </tr>\n    <tr>\n      <th>6</th>\n      <td>0.045165</td>\n      <td>(Documentary)</td>\n    </tr>\n    <tr>\n      <th>7</th>\n      <td>0.447649</td>\n      <td>(Drama)</td>\n    </tr>\n    <tr>\n      <th>8</th>\n      <td>0.079963</td>\n      <td>(Fantasy)</td>\n    </tr>\n    <tr>\n      <th>9</th>\n      <td>0.100390</td>\n      <td>(Horror)</td>\n    </tr>\n    <tr>\n      <th>10</th>\n      <td>0.034285</td>\n      <td>(Musical)</td>\n    </tr>\n    <tr>\n      <th>11</th>\n      <td>0.058817</td>\n      <td>(Mystery)</td>\n    </tr>\n    <tr>\n      <th>12</th>\n      <td>0.163827</td>\n      <td>(Romance)</td>\n    </tr>\n    <tr>\n      <th>13</th>\n      <td>0.100595</td>\n      <td>(Sci-Fi)</td>\n    </tr>\n    <tr>\n      <th>14</th>\n      <td>0.194416</td>\n      <td>(Thriller)</td>\n    </tr>\n    <tr>\n      <th>15</th>\n      <td>0.039212</td>\n      <td>(War)</td>\n    </tr>\n    <tr>\n      <th>16</th>\n      <td>0.062615</td>\n      <td>(Adventure, Action)</td>\n    </tr>\n    <tr>\n      <th>17</th>\n      <td>0.044036</td>\n      <td>(Action, Comedy)</td>\n    </tr>\n    <tr>\n      <th>18</th>\n      <td>0.042907</td>\n      <td>(Crime, Action)</td>\n    </tr>\n    <tr>\n      <th>19</th>\n      <td>0.054301</td>\n      <td>(Action, Drama)</td>\n    </tr>\n    <tr>\n      <th>20</th>\n      <td>0.046294</td>\n      <td>(Sci-Fi, Action)</td>\n    </tr>\n    <tr>\n      <th>21</th>\n      <td>0.067235</td>\n      <td>(Action, Thriller)</td>\n    </tr>\n    <tr>\n      <th>22</th>\n      <td>0.025354</td>\n      <td>(Animation, Adventure)</td>\n    </tr>\n    <tr>\n      <th>23</th>\n      <td>0.032026</td>\n      <td>(Children, Adventure)</td>\n    </tr>\n    <tr>\n      <th>24</th>\n      <td>0.040957</td>\n      <td>(Adventure, Comedy)</td>\n    </tr>\n    <tr>\n      <th>25</th>\n      <td>0.031924</td>\n      <td>(Adventure, Drama)</td>\n    </tr>\n    <tr>\n      <th>26</th>\n      <td>0.034285</td>\n      <td>(Adventure, Fantasy)</td>\n    </tr>\n    <tr>\n      <th>27</th>\n      <td>0.031410</td>\n      <td>(Sci-Fi, Adventure)</td>\n    </tr>\n    <tr>\n      <th>28</th>\n      <td>0.031000</td>\n      <td>(Children, Animation)</td>\n    </tr>\n    <tr>\n      <th>29</th>\n      <td>0.027612</td>\n      <td>(Animation, Comedy)</td>\n    </tr>\n    <tr>\n      <th>30</th>\n      <td>0.037159</td>\n      <td>(Children, Comedy)</td>\n    </tr>\n    <tr>\n      <th>31</th>\n      <td>0.035414</td>\n      <td>(Crime, Comedy)</td>\n    </tr>\n    <tr>\n      <th>32</th>\n      <td>0.103983</td>\n      <td>(Drama, Comedy)</td>\n    </tr>\n    <tr>\n      <th>33</th>\n      <td>0.030076</td>\n      <td>(Comedy, Fantasy)</td>\n    </tr>\n    <tr>\n      <th>34</th>\n      <td>0.090741</td>\n      <td>(Romance, Comedy)</td>\n    </tr>\n    <tr>\n      <th>35</th>\n      <td>0.065387</td>\n      <td>(Crime, Drama)</td>\n    </tr>\n    <tr>\n      <th>36</th>\n      <td>0.058407</td>\n      <td>(Crime, Thriller)</td>\n    </tr>\n    <tr>\n      <th>37</th>\n      <td>0.029563</td>\n      <td>(Mystery, Drama)</td>\n    </tr>\n    <tr>\n      <th>38</th>\n      <td>0.095874</td>\n      <td>(Romance, Drama)</td>\n    </tr>\n    <tr>\n      <th>39</th>\n      <td>0.085403</td>\n      <td>(Thriller, Drama)</td>\n    </tr>\n    <tr>\n      <th>40</th>\n      <td>0.030589</td>\n      <td>(War, Drama)</td>\n    </tr>\n    <tr>\n      <th>41</th>\n      <td>0.047116</td>\n      <td>(Horror, Thriller)</td>\n    </tr>\n    <tr>\n      <th>42</th>\n      <td>0.036338</td>\n      <td>(Mystery, Thriller)</td>\n    </tr>\n    <tr>\n      <th>43</th>\n      <td>0.031000</td>\n      <td>(Sci-Fi, Thriller)</td>\n    </tr>\n    <tr>\n      <th>44</th>\n      <td>0.035106</td>\n      <td>(Romance, Drama, Comedy)</td>\n    </tr>\n    <tr>\n      <th>45</th>\n      <td>0.031718</td>\n      <td>(Thriller, Crime, Drama)</td>\n    </tr>\n  </tbody>\n</table>\n</div>"
     },
     "execution_count": 22,
     "metadata": {},
     "output_type": "execute_result"
    }
   ],
   "source": [
    "frequent_itemsets_movies"
   ],
   "metadata": {
    "collapsed": false,
    "pycharm": {
     "name": "#%%\n"
    }
   }
  },
  {
   "cell_type": "code",
   "execution_count": 23,
   "outputs": [],
   "source": [
    "rules_movies = association_rules(frequent_itemsets_movies,metric='lift',min_threshold=1.25)"
   ],
   "metadata": {
    "collapsed": false,
    "pycharm": {
     "name": "#%%\n"
    }
   }
  },
  {
   "cell_type": "code",
   "execution_count": 24,
   "outputs": [
    {
     "data": {
      "text/plain": "          antecedents        consequents  antecedent support  \\\n0         (Adventure)           (Action)            0.129645   \n1            (Action)        (Adventure)            0.187641   \n2             (Crime)           (Action)            0.123075   \n3            (Action)            (Crime)            0.187641   \n4            (Sci-Fi)           (Action)            0.100595   \n5            (Action)           (Sci-Fi)            0.187641   \n6            (Action)         (Thriller)            0.187641   \n7          (Thriller)           (Action)            0.194416   \n8         (Animation)        (Adventure)            0.062718   \n9         (Adventure)        (Animation)            0.129645   \n10         (Children)        (Adventure)            0.068158   \n11        (Adventure)         (Children)            0.129645   \n12        (Adventure)          (Fantasy)            0.129645   \n13          (Fantasy)        (Adventure)            0.079963   \n14           (Sci-Fi)        (Adventure)            0.100595   \n15        (Adventure)           (Sci-Fi)            0.129645   \n16         (Children)        (Animation)            0.068158   \n17        (Animation)         (Children)            0.062718   \n18         (Children)           (Comedy)            0.068158   \n19           (Comedy)         (Children)            0.385547   \n20          (Romance)           (Comedy)            0.163827   \n21           (Comedy)          (Romance)            0.385547   \n22            (Crime)         (Thriller)            0.123075   \n23         (Thriller)            (Crime)            0.194416   \n24          (Romance)            (Drama)            0.163827   \n25            (Drama)          (Romance)            0.447649   \n26              (War)            (Drama)            0.039212   \n27            (Drama)              (War)            0.447649   \n28           (Horror)         (Thriller)            0.100390   \n29         (Thriller)           (Horror)            0.194416   \n30          (Mystery)         (Thriller)            0.058817   \n31         (Thriller)          (Mystery)            0.194416   \n32           (Sci-Fi)         (Thriller)            0.100595   \n33         (Thriller)           (Sci-Fi)            0.194416   \n34    (Drama, Comedy)          (Romance)            0.103983   \n35          (Romance)    (Drama, Comedy)            0.163827   \n36  (Drama, Thriller)            (Crime)            0.085403   \n37     (Crime, Drama)         (Thriller)            0.065387   \n38         (Thriller)     (Crime, Drama)            0.194416   \n39            (Crime)  (Drama, Thriller)            0.123075   \n\n    consequent support   support  confidence      lift  leverage  conviction  \n0             0.187641  0.062615    0.482977  2.573940  0.038289    1.571224  \n1             0.129645  0.062615    0.333698  2.573940  0.038289    1.306247  \n2             0.187641  0.042907    0.348624  1.857929  0.019813    1.247142  \n3             0.123075  0.042907    0.228665  1.857929  0.019813    1.136892  \n4             0.187641  0.046294    0.460204  2.452576  0.027419    1.504937  \n5             0.100595  0.046294    0.246718  2.452576  0.027419    1.193981  \n6             0.194416  0.067235    0.358315  1.843034  0.030754    1.255420  \n7             0.187641  0.067235    0.345829  1.843034  0.030754    1.241814  \n8             0.129645  0.025354    0.404255  3.118175  0.017223    1.460953  \n9             0.062718  0.025354    0.195566  3.118175  0.017223    1.165145  \n10            0.129645  0.032026    0.469880  3.624360  0.023190    1.641806  \n11            0.068158  0.032026    0.247031  3.624360  0.023190    1.237556  \n12            0.079963  0.034285    0.264450  3.307149  0.023918    1.250815  \n13            0.129645  0.034285    0.428755  3.307149  0.023918    1.523610  \n14            0.129645  0.031410    0.312245  2.408464  0.018369    1.265502  \n15            0.100595  0.031410    0.242280  2.408464  0.018369    1.186989  \n16            0.062718  0.031000    0.454819  7.251799  0.026725    1.719213  \n17            0.068158  0.031000    0.494272  7.251799  0.026725    1.842573  \n18            0.385547  0.037159    0.545181  1.414044  0.010880    1.350983  \n19            0.068158  0.037159    0.096379  1.414044  0.010880    1.031231  \n20            0.385547  0.090741    0.553885  1.436620  0.027578    1.377341  \n21            0.163827  0.090741    0.235357  1.436620  0.027578    1.093547  \n22            0.194416  0.058407    0.474562  2.440963  0.034479    1.533167  \n23            0.123075  0.058407    0.300422  2.440963  0.034479    1.253506  \n24            0.447649  0.095874    0.585213  1.307302  0.022537    1.331649  \n25            0.163827  0.095874    0.214171  1.307302  0.022537    1.064065  \n26            0.447649  0.030589    0.780105  1.742669  0.013036    2.511880  \n27            0.039212  0.030589    0.068333  1.742669  0.013036    1.031257  \n28            0.194416  0.047116    0.469325  2.414026  0.027598    1.518037  \n29            0.100390  0.047116    0.242344  2.414026  0.027598    1.187360  \n30            0.194416  0.036338    0.617801  3.177729  0.024902    2.107761  \n31            0.058817  0.036338    0.186906  3.177729  0.024902    1.157532  \n32            0.194416  0.031000    0.308163  1.585072  0.011442    1.164414  \n33            0.100595  0.031000    0.159451  1.585072  0.011442    1.070020  \n34            0.163827  0.035106    0.337611  2.060781  0.018071    1.262360  \n35            0.103983  0.035106    0.214286  2.060781  0.018071    1.140386  \n36            0.123075  0.031718    0.371394  3.017617  0.021207    1.395031  \n37            0.194416  0.031718    0.485086  2.495096  0.019006    1.564503  \n38            0.065387  0.031718    0.163147  2.495096  0.019006    1.116818  \n39            0.085403  0.031718    0.257715  3.017617  0.021207    1.232136  ",
      "text/html": "<div>\n<style scoped>\n    .dataframe tbody tr th:only-of-type {\n        vertical-align: middle;\n    }\n\n    .dataframe tbody tr th {\n        vertical-align: top;\n    }\n\n    .dataframe thead th {\n        text-align: right;\n    }\n</style>\n<table border=\"1\" class=\"dataframe\">\n  <thead>\n    <tr style=\"text-align: right;\">\n      <th></th>\n      <th>antecedents</th>\n      <th>consequents</th>\n      <th>antecedent support</th>\n      <th>consequent support</th>\n      <th>support</th>\n      <th>confidence</th>\n      <th>lift</th>\n      <th>leverage</th>\n      <th>conviction</th>\n    </tr>\n  </thead>\n  <tbody>\n    <tr>\n      <th>0</th>\n      <td>(Adventure)</td>\n      <td>(Action)</td>\n      <td>0.129645</td>\n      <td>0.187641</td>\n      <td>0.062615</td>\n      <td>0.482977</td>\n      <td>2.573940</td>\n      <td>0.038289</td>\n      <td>1.571224</td>\n    </tr>\n    <tr>\n      <th>1</th>\n      <td>(Action)</td>\n      <td>(Adventure)</td>\n      <td>0.187641</td>\n      <td>0.129645</td>\n      <td>0.062615</td>\n      <td>0.333698</td>\n      <td>2.573940</td>\n      <td>0.038289</td>\n      <td>1.306247</td>\n    </tr>\n    <tr>\n      <th>2</th>\n      <td>(Crime)</td>\n      <td>(Action)</td>\n      <td>0.123075</td>\n      <td>0.187641</td>\n      <td>0.042907</td>\n      <td>0.348624</td>\n      <td>1.857929</td>\n      <td>0.019813</td>\n      <td>1.247142</td>\n    </tr>\n    <tr>\n      <th>3</th>\n      <td>(Action)</td>\n      <td>(Crime)</td>\n      <td>0.187641</td>\n      <td>0.123075</td>\n      <td>0.042907</td>\n      <td>0.228665</td>\n      <td>1.857929</td>\n      <td>0.019813</td>\n      <td>1.136892</td>\n    </tr>\n    <tr>\n      <th>4</th>\n      <td>(Sci-Fi)</td>\n      <td>(Action)</td>\n      <td>0.100595</td>\n      <td>0.187641</td>\n      <td>0.046294</td>\n      <td>0.460204</td>\n      <td>2.452576</td>\n      <td>0.027419</td>\n      <td>1.504937</td>\n    </tr>\n    <tr>\n      <th>5</th>\n      <td>(Action)</td>\n      <td>(Sci-Fi)</td>\n      <td>0.187641</td>\n      <td>0.100595</td>\n      <td>0.046294</td>\n      <td>0.246718</td>\n      <td>2.452576</td>\n      <td>0.027419</td>\n      <td>1.193981</td>\n    </tr>\n    <tr>\n      <th>6</th>\n      <td>(Action)</td>\n      <td>(Thriller)</td>\n      <td>0.187641</td>\n      <td>0.194416</td>\n      <td>0.067235</td>\n      <td>0.358315</td>\n      <td>1.843034</td>\n      <td>0.030754</td>\n      <td>1.255420</td>\n    </tr>\n    <tr>\n      <th>7</th>\n      <td>(Thriller)</td>\n      <td>(Action)</td>\n      <td>0.194416</td>\n      <td>0.187641</td>\n      <td>0.067235</td>\n      <td>0.345829</td>\n      <td>1.843034</td>\n      <td>0.030754</td>\n      <td>1.241814</td>\n    </tr>\n    <tr>\n      <th>8</th>\n      <td>(Animation)</td>\n      <td>(Adventure)</td>\n      <td>0.062718</td>\n      <td>0.129645</td>\n      <td>0.025354</td>\n      <td>0.404255</td>\n      <td>3.118175</td>\n      <td>0.017223</td>\n      <td>1.460953</td>\n    </tr>\n    <tr>\n      <th>9</th>\n      <td>(Adventure)</td>\n      <td>(Animation)</td>\n      <td>0.129645</td>\n      <td>0.062718</td>\n      <td>0.025354</td>\n      <td>0.195566</td>\n      <td>3.118175</td>\n      <td>0.017223</td>\n      <td>1.165145</td>\n    </tr>\n    <tr>\n      <th>10</th>\n      <td>(Children)</td>\n      <td>(Adventure)</td>\n      <td>0.068158</td>\n      <td>0.129645</td>\n      <td>0.032026</td>\n      <td>0.469880</td>\n      <td>3.624360</td>\n      <td>0.023190</td>\n      <td>1.641806</td>\n    </tr>\n    <tr>\n      <th>11</th>\n      <td>(Adventure)</td>\n      <td>(Children)</td>\n      <td>0.129645</td>\n      <td>0.068158</td>\n      <td>0.032026</td>\n      <td>0.247031</td>\n      <td>3.624360</td>\n      <td>0.023190</td>\n      <td>1.237556</td>\n    </tr>\n    <tr>\n      <th>12</th>\n      <td>(Adventure)</td>\n      <td>(Fantasy)</td>\n      <td>0.129645</td>\n      <td>0.079963</td>\n      <td>0.034285</td>\n      <td>0.264450</td>\n      <td>3.307149</td>\n      <td>0.023918</td>\n      <td>1.250815</td>\n    </tr>\n    <tr>\n      <th>13</th>\n      <td>(Fantasy)</td>\n      <td>(Adventure)</td>\n      <td>0.079963</td>\n      <td>0.129645</td>\n      <td>0.034285</td>\n      <td>0.428755</td>\n      <td>3.307149</td>\n      <td>0.023918</td>\n      <td>1.523610</td>\n    </tr>\n    <tr>\n      <th>14</th>\n      <td>(Sci-Fi)</td>\n      <td>(Adventure)</td>\n      <td>0.100595</td>\n      <td>0.129645</td>\n      <td>0.031410</td>\n      <td>0.312245</td>\n      <td>2.408464</td>\n      <td>0.018369</td>\n      <td>1.265502</td>\n    </tr>\n    <tr>\n      <th>15</th>\n      <td>(Adventure)</td>\n      <td>(Sci-Fi)</td>\n      <td>0.129645</td>\n      <td>0.100595</td>\n      <td>0.031410</td>\n      <td>0.242280</td>\n      <td>2.408464</td>\n      <td>0.018369</td>\n      <td>1.186989</td>\n    </tr>\n    <tr>\n      <th>16</th>\n      <td>(Children)</td>\n      <td>(Animation)</td>\n      <td>0.068158</td>\n      <td>0.062718</td>\n      <td>0.031000</td>\n      <td>0.454819</td>\n      <td>7.251799</td>\n      <td>0.026725</td>\n      <td>1.719213</td>\n    </tr>\n    <tr>\n      <th>17</th>\n      <td>(Animation)</td>\n      <td>(Children)</td>\n      <td>0.062718</td>\n      <td>0.068158</td>\n      <td>0.031000</td>\n      <td>0.494272</td>\n      <td>7.251799</td>\n      <td>0.026725</td>\n      <td>1.842573</td>\n    </tr>\n    <tr>\n      <th>18</th>\n      <td>(Children)</td>\n      <td>(Comedy)</td>\n      <td>0.068158</td>\n      <td>0.385547</td>\n      <td>0.037159</td>\n      <td>0.545181</td>\n      <td>1.414044</td>\n      <td>0.010880</td>\n      <td>1.350983</td>\n    </tr>\n    <tr>\n      <th>19</th>\n      <td>(Comedy)</td>\n      <td>(Children)</td>\n      <td>0.385547</td>\n      <td>0.068158</td>\n      <td>0.037159</td>\n      <td>0.096379</td>\n      <td>1.414044</td>\n      <td>0.010880</td>\n      <td>1.031231</td>\n    </tr>\n    <tr>\n      <th>20</th>\n      <td>(Romance)</td>\n      <td>(Comedy)</td>\n      <td>0.163827</td>\n      <td>0.385547</td>\n      <td>0.090741</td>\n      <td>0.553885</td>\n      <td>1.436620</td>\n      <td>0.027578</td>\n      <td>1.377341</td>\n    </tr>\n    <tr>\n      <th>21</th>\n      <td>(Comedy)</td>\n      <td>(Romance)</td>\n      <td>0.385547</td>\n      <td>0.163827</td>\n      <td>0.090741</td>\n      <td>0.235357</td>\n      <td>1.436620</td>\n      <td>0.027578</td>\n      <td>1.093547</td>\n    </tr>\n    <tr>\n      <th>22</th>\n      <td>(Crime)</td>\n      <td>(Thriller)</td>\n      <td>0.123075</td>\n      <td>0.194416</td>\n      <td>0.058407</td>\n      <td>0.474562</td>\n      <td>2.440963</td>\n      <td>0.034479</td>\n      <td>1.533167</td>\n    </tr>\n    <tr>\n      <th>23</th>\n      <td>(Thriller)</td>\n      <td>(Crime)</td>\n      <td>0.194416</td>\n      <td>0.123075</td>\n      <td>0.058407</td>\n      <td>0.300422</td>\n      <td>2.440963</td>\n      <td>0.034479</td>\n      <td>1.253506</td>\n    </tr>\n    <tr>\n      <th>24</th>\n      <td>(Romance)</td>\n      <td>(Drama)</td>\n      <td>0.163827</td>\n      <td>0.447649</td>\n      <td>0.095874</td>\n      <td>0.585213</td>\n      <td>1.307302</td>\n      <td>0.022537</td>\n      <td>1.331649</td>\n    </tr>\n    <tr>\n      <th>25</th>\n      <td>(Drama)</td>\n      <td>(Romance)</td>\n      <td>0.447649</td>\n      <td>0.163827</td>\n      <td>0.095874</td>\n      <td>0.214171</td>\n      <td>1.307302</td>\n      <td>0.022537</td>\n      <td>1.064065</td>\n    </tr>\n    <tr>\n      <th>26</th>\n      <td>(War)</td>\n      <td>(Drama)</td>\n      <td>0.039212</td>\n      <td>0.447649</td>\n      <td>0.030589</td>\n      <td>0.780105</td>\n      <td>1.742669</td>\n      <td>0.013036</td>\n      <td>2.511880</td>\n    </tr>\n    <tr>\n      <th>27</th>\n      <td>(Drama)</td>\n      <td>(War)</td>\n      <td>0.447649</td>\n      <td>0.039212</td>\n      <td>0.030589</td>\n      <td>0.068333</td>\n      <td>1.742669</td>\n      <td>0.013036</td>\n      <td>1.031257</td>\n    </tr>\n    <tr>\n      <th>28</th>\n      <td>(Horror)</td>\n      <td>(Thriller)</td>\n      <td>0.100390</td>\n      <td>0.194416</td>\n      <td>0.047116</td>\n      <td>0.469325</td>\n      <td>2.414026</td>\n      <td>0.027598</td>\n      <td>1.518037</td>\n    </tr>\n    <tr>\n      <th>29</th>\n      <td>(Thriller)</td>\n      <td>(Horror)</td>\n      <td>0.194416</td>\n      <td>0.100390</td>\n      <td>0.047116</td>\n      <td>0.242344</td>\n      <td>2.414026</td>\n      <td>0.027598</td>\n      <td>1.187360</td>\n    </tr>\n    <tr>\n      <th>30</th>\n      <td>(Mystery)</td>\n      <td>(Thriller)</td>\n      <td>0.058817</td>\n      <td>0.194416</td>\n      <td>0.036338</td>\n      <td>0.617801</td>\n      <td>3.177729</td>\n      <td>0.024902</td>\n      <td>2.107761</td>\n    </tr>\n    <tr>\n      <th>31</th>\n      <td>(Thriller)</td>\n      <td>(Mystery)</td>\n      <td>0.194416</td>\n      <td>0.058817</td>\n      <td>0.036338</td>\n      <td>0.186906</td>\n      <td>3.177729</td>\n      <td>0.024902</td>\n      <td>1.157532</td>\n    </tr>\n    <tr>\n      <th>32</th>\n      <td>(Sci-Fi)</td>\n      <td>(Thriller)</td>\n      <td>0.100595</td>\n      <td>0.194416</td>\n      <td>0.031000</td>\n      <td>0.308163</td>\n      <td>1.585072</td>\n      <td>0.011442</td>\n      <td>1.164414</td>\n    </tr>\n    <tr>\n      <th>33</th>\n      <td>(Thriller)</td>\n      <td>(Sci-Fi)</td>\n      <td>0.194416</td>\n      <td>0.100595</td>\n      <td>0.031000</td>\n      <td>0.159451</td>\n      <td>1.585072</td>\n      <td>0.011442</td>\n      <td>1.070020</td>\n    </tr>\n    <tr>\n      <th>34</th>\n      <td>(Drama, Comedy)</td>\n      <td>(Romance)</td>\n      <td>0.103983</td>\n      <td>0.163827</td>\n      <td>0.035106</td>\n      <td>0.337611</td>\n      <td>2.060781</td>\n      <td>0.018071</td>\n      <td>1.262360</td>\n    </tr>\n    <tr>\n      <th>35</th>\n      <td>(Romance)</td>\n      <td>(Drama, Comedy)</td>\n      <td>0.163827</td>\n      <td>0.103983</td>\n      <td>0.035106</td>\n      <td>0.214286</td>\n      <td>2.060781</td>\n      <td>0.018071</td>\n      <td>1.140386</td>\n    </tr>\n    <tr>\n      <th>36</th>\n      <td>(Drama, Thriller)</td>\n      <td>(Crime)</td>\n      <td>0.085403</td>\n      <td>0.123075</td>\n      <td>0.031718</td>\n      <td>0.371394</td>\n      <td>3.017617</td>\n      <td>0.021207</td>\n      <td>1.395031</td>\n    </tr>\n    <tr>\n      <th>37</th>\n      <td>(Crime, Drama)</td>\n      <td>(Thriller)</td>\n      <td>0.065387</td>\n      <td>0.194416</td>\n      <td>0.031718</td>\n      <td>0.485086</td>\n      <td>2.495096</td>\n      <td>0.019006</td>\n      <td>1.564503</td>\n    </tr>\n    <tr>\n      <th>38</th>\n      <td>(Thriller)</td>\n      <td>(Crime, Drama)</td>\n      <td>0.194416</td>\n      <td>0.065387</td>\n      <td>0.031718</td>\n      <td>0.163147</td>\n      <td>2.495096</td>\n      <td>0.019006</td>\n      <td>1.116818</td>\n    </tr>\n    <tr>\n      <th>39</th>\n      <td>(Crime)</td>\n      <td>(Drama, Thriller)</td>\n      <td>0.123075</td>\n      <td>0.085403</td>\n      <td>0.031718</td>\n      <td>0.257715</td>\n      <td>3.017617</td>\n      <td>0.021207</td>\n      <td>1.232136</td>\n    </tr>\n  </tbody>\n</table>\n</div>"
     },
     "execution_count": 24,
     "metadata": {},
     "output_type": "execute_result"
    }
   ],
   "source": [
    "rules_movies"
   ],
   "metadata": {
    "collapsed": false,
    "pycharm": {
     "name": "#%%\n"
    }
   }
  },
  {
   "cell_type": "code",
   "execution_count": 25,
   "outputs": [
    {
     "data": {
      "text/plain": "    antecedents  consequents  antecedent support  consequent support  support  \\\n16   (Children)  (Animation)            0.068158            0.062718    0.031   \n17  (Animation)   (Children)            0.062718            0.068158    0.031   \n\n    confidence      lift  leverage  conviction  \n16    0.454819  7.251799  0.026725    1.719213  \n17    0.494272  7.251799  0.026725    1.842573  ",
      "text/html": "<div>\n<style scoped>\n    .dataframe tbody tr th:only-of-type {\n        vertical-align: middle;\n    }\n\n    .dataframe tbody tr th {\n        vertical-align: top;\n    }\n\n    .dataframe thead th {\n        text-align: right;\n    }\n</style>\n<table border=\"1\" class=\"dataframe\">\n  <thead>\n    <tr style=\"text-align: right;\">\n      <th></th>\n      <th>antecedents</th>\n      <th>consequents</th>\n      <th>antecedent support</th>\n      <th>consequent support</th>\n      <th>support</th>\n      <th>confidence</th>\n      <th>lift</th>\n      <th>leverage</th>\n      <th>conviction</th>\n    </tr>\n  </thead>\n  <tbody>\n    <tr>\n      <th>16</th>\n      <td>(Children)</td>\n      <td>(Animation)</td>\n      <td>0.068158</td>\n      <td>0.062718</td>\n      <td>0.031</td>\n      <td>0.454819</td>\n      <td>7.251799</td>\n      <td>0.026725</td>\n      <td>1.719213</td>\n    </tr>\n    <tr>\n      <th>17</th>\n      <td>(Animation)</td>\n      <td>(Children)</td>\n      <td>0.062718</td>\n      <td>0.068158</td>\n      <td>0.031</td>\n      <td>0.494272</td>\n      <td>7.251799</td>\n      <td>0.026725</td>\n      <td>1.842573</td>\n    </tr>\n  </tbody>\n</table>\n</div>"
     },
     "execution_count": 25,
     "metadata": {},
     "output_type": "execute_result"
    }
   ],
   "source": [
    "rules_movies[(rules_movies.lift)>4].sort_values(by=['lift'],ascending=False)"
   ],
   "metadata": {
    "collapsed": false,
    "pycharm": {
     "name": "#%%\n"
    }
   }
  },
  {
   "cell_type": "markdown",
   "source": [
    "children和animation相关度比较高"
   ],
   "metadata": {
    "collapsed": false,
    "pycharm": {
     "name": "#%% md\n"
    }
   }
  },
  {
   "cell_type": "code",
   "execution_count": 26,
   "outputs": [
    {
     "data": {
      "text/plain": "      movieId                      title  \\\n0           1           Toy Story (1995)   \n12         13               Balto (1995)   \n44         48          Pocahontas (1995)   \n205       239      Goofy Movie, A (1995)   \n272       313  Swan Princess, The (1994)   \n...       ...                        ...   \n9629   178827        Paddington 2 (2017)   \n9657   180987           Ferdinand (2017)   \n9664   182293    Hare-um Scare-um (1939)   \n9666   182299   Porky's Hare Hunt (1938)   \n9708   187541       Incredibles 2 (2018)   \n\n                                           genres  \n0     Adventure|Animation|Children|Comedy|Fantasy  \n12                   Adventure|Animation|Children  \n44       Animation|Children|Drama|Musical|Romance  \n205             Animation|Children|Comedy|Romance  \n272                            Animation|Children  \n...                                           ...  \n9629          Adventure|Animation|Children|Comedy  \n9657                    Animation|Children|Comedy  \n9664                    Animation|Children|Comedy  \n9666                    Animation|Children|Comedy  \n9708          Action|Adventure|Animation|Children  \n\n[302 rows x 3 columns]",
      "text/html": "<div>\n<style scoped>\n    .dataframe tbody tr th:only-of-type {\n        vertical-align: middle;\n    }\n\n    .dataframe tbody tr th {\n        vertical-align: top;\n    }\n\n    .dataframe thead th {\n        text-align: right;\n    }\n</style>\n<table border=\"1\" class=\"dataframe\">\n  <thead>\n    <tr style=\"text-align: right;\">\n      <th></th>\n      <th>movieId</th>\n      <th>title</th>\n      <th>genres</th>\n    </tr>\n  </thead>\n  <tbody>\n    <tr>\n      <th>0</th>\n      <td>1</td>\n      <td>Toy Story (1995)</td>\n      <td>Adventure|Animation|Children|Comedy|Fantasy</td>\n    </tr>\n    <tr>\n      <th>12</th>\n      <td>13</td>\n      <td>Balto (1995)</td>\n      <td>Adventure|Animation|Children</td>\n    </tr>\n    <tr>\n      <th>44</th>\n      <td>48</td>\n      <td>Pocahontas (1995)</td>\n      <td>Animation|Children|Drama|Musical|Romance</td>\n    </tr>\n    <tr>\n      <th>205</th>\n      <td>239</td>\n      <td>Goofy Movie, A (1995)</td>\n      <td>Animation|Children|Comedy|Romance</td>\n    </tr>\n    <tr>\n      <th>272</th>\n      <td>313</td>\n      <td>Swan Princess, The (1994)</td>\n      <td>Animation|Children</td>\n    </tr>\n    <tr>\n      <th>...</th>\n      <td>...</td>\n      <td>...</td>\n      <td>...</td>\n    </tr>\n    <tr>\n      <th>9629</th>\n      <td>178827</td>\n      <td>Paddington 2 (2017)</td>\n      <td>Adventure|Animation|Children|Comedy</td>\n    </tr>\n    <tr>\n      <th>9657</th>\n      <td>180987</td>\n      <td>Ferdinand (2017)</td>\n      <td>Animation|Children|Comedy</td>\n    </tr>\n    <tr>\n      <th>9664</th>\n      <td>182293</td>\n      <td>Hare-um Scare-um (1939)</td>\n      <td>Animation|Children|Comedy</td>\n    </tr>\n    <tr>\n      <th>9666</th>\n      <td>182299</td>\n      <td>Porky's Hare Hunt (1938)</td>\n      <td>Animation|Children|Comedy</td>\n    </tr>\n    <tr>\n      <th>9708</th>\n      <td>187541</td>\n      <td>Incredibles 2 (2018)</td>\n      <td>Action|Adventure|Animation|Children</td>\n    </tr>\n  </tbody>\n</table>\n<p>302 rows × 3 columns</p>\n</div>"
     },
     "execution_count": 26,
     "metadata": {},
     "output_type": "execute_result"
    }
   ],
   "source": [
    "movies[(movies.genres.str.contains('Children')) & (movies.genres.str.contains('Animation'))]"
   ],
   "metadata": {
    "collapsed": false,
    "pycharm": {
     "name": "#%%\n"
    }
   }
  },
  {
   "cell_type": "code",
   "execution_count": null,
   "outputs": [],
   "source": [
    "\n"
   ],
   "metadata": {
    "collapsed": false,
    "pycharm": {
     "name": "#%%\n"
    }
   }
  }
 ],
 "metadata": {
  "kernelspec": {
   "display_name": "Python 3",
   "language": "python",
   "name": "python3"
  },
  "language_info": {
   "codemirror_mode": {
    "name": "ipython",
    "version": 2
   },
   "file_extension": ".py",
   "mimetype": "text/x-python",
   "name": "python",
   "nbconvert_exporter": "python",
   "pygments_lexer": "ipython2",
   "version": "2.7.6"
  }
 },
 "nbformat": 4,
 "nbformat_minor": 0
}